{
 "cells": [
  {
   "cell_type": "code",
   "execution_count": 87,
   "metadata": {},
   "outputs": [
    {
     "data": {
      "text/plain": [
       "<Figure size 1296x720 with 0 Axes>"
      ]
     },
     "metadata": {},
     "output_type": "display_data"
    }
   ],
   "source": [
    "import json\n",
    "from matplotlib import pyplot as plt\n",
    "import numpy as np\n",
    "with open('class_train_AP/fridge.json') as json_file:\n",
    "    data = json.load(json_file)\n",
    "    dicTrain = data[0]\n",
    "with open('class_value_AP/refrigerator.json') as json_file:\n",
    "    data = json.load(json_file)\n",
    "    dicValue = data[0]\n",
    "\n",
    "thresholdValue = dicValue['iou_threshold']\n",
    "iousValue = dicValue['AP[IoU:0.5]']\n",
    "thresholdTrain = dicTrain['iou_threshold']\n",
    "iousTrain = dicTrain['AP[IoU:0.95]']\n",
    "def min_max_scaling(array):\n",
    "    array = np.array(array)\n",
    "    mini = min(array)\n",
    "    maxi = max(array)\n",
    "    res = (array - mini)/(maxi-mini)\n",
    "    var = np.var(array)\n",
    "    return res\n",
    "plt.figure(figsize=(18,10))\n",
    "plt.plot(thresholdValue,min_max_scaling(iousValue),label = \"AP[IoU = 0.5] mesure on Value data set\")\n",
    "plt.plot(thresholdTrain,min_max_scaling(iousTrain),label = \"AP[IoU = 0.95] mesure on training data set\")\n",
    "withVar = (np.var(iousTrain) * min_max_scaling(iousTrain) + np.var(iousValue)*min_max_scaling(iousValue))/(np.var(iousTrain)+np.var(iousValue))\n",
    "plt.plot(thresholdTrain,min_max_scaling(withVar),label = \"min-max scaled of the sum\")\n",
    "plt.legend()\n",
    "plt.title(\"refrigerator\")\n",
    "plt.ylabel(\"Min-max scaled of the corresponding AP mesure\")\n",
    "plt.xlabel(\"iou_threshold\")\n",
    "plt.savefig('optimal_refrigerator.png', bbox_inches='tight')\n",
    "plt.clf()\n",
    "plt.show()"
   ]
  }
 ],
 "metadata": {
  "kernelspec": {
   "display_name": "Python 3",
   "language": "python",
   "name": "python3"
  },
  "language_info": {
   "codemirror_mode": {
    "name": "ipython",
    "version": 3
   },
   "file_extension": ".py",
   "mimetype": "text/x-python",
   "name": "python",
   "nbconvert_exporter": "python",
   "pygments_lexer": "ipython3",
   "version": "3.7.4"
  }
 },
 "nbformat": 4,
 "nbformat_minor": 2
}
