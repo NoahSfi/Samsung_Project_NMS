{
 "cells": [
  {
   "cell_type": "code",
   "execution_count": 20,
   "metadata": {},
   "outputs": [
    {
     "data": {
      "text/plain": [
       "<Figure size 1296x720 with 0 Axes>"
      ]
     },
     "metadata": {},
     "output_type": "display_data"
    }
   ],
   "source": [
    "import json\n",
    "import numpy as np\n",
    "from matplotlib import pyplot as plt\n",
    "import scipy.ndimage\n",
    "\n",
    "with open('class_value_AP/car.json') as f:\n",
    "    data = json.load(f)[0]\n",
    "    iousValue = data[\"AP[IoU:0.5]\"]\n",
    "with open('class_train_AP/car.json') as f:\n",
    "    data = json.load(f)[0]\n",
    "    iousTrain = data[\"AP[IoU:0.95]\"]\n",
    "ious = data['iou_threshold']\n",
    "def min_max_scaling(l):\n",
    "    array = np.array(l)\n",
    "    mini = np.min(l)\n",
    "    maxi = np.max(l)\n",
    "    return (array -mini)/(maxi-mini)\n",
    "rValue = max(iousValue) - min(iousValue)\n",
    "rTrain = max(iousTrain) - min(iousTrain)\n",
    "\n",
    "mean = (np.var(iousTrain) * min_max_scaling(iousTrain) + np.var(iousValue)*min_max_scaling(iousValue))/(np.var(iousTrain)+np.var(iousValue))\n",
    "ranges = (rValue * min_max_scaling(iousTrain) + rTrain*min_max_scaling(iousValue))/(rValue+rTrain)\n",
    "\n",
    "plt.figure(figsize=(18,10))\n",
    "# plt.plot(ious,mean,label = \"range mean\")\n",
    "# plt.plot(ious,min_max_scaling(iousTrain),label=\"AP[IoU = 0.95] mesure on training data set\")\n",
    "# plt.plot(ious,min_max_scaling(iousValue),label=\"AP[IoU = 0.50] mesure on value data set\")\n",
    "# plt.legend(fontsize=15)\n",
    "# plt.ylabel(\"Min max scaled of the corresponding AP mesure\")\n",
    "# plt.xlabel(\"IoU Threshold\")\n",
    "# plt.title(\"car\")\n",
    "# plt.savefig('optimised_car.jpg', bbox_inches='tight')\n",
    "# plt.clf()\n",
    "# plt.show()\n",
    "\n",
    "plt.title(\"Car Train with gausse filtering\")\n",
    "plt.plot(ious,iousTrain)\n",
    "plt.plot(ious,scipy.ndimage.gaussian_filter(iousTrain, 3),label= \"Gauss filtering $\\sigma = 3$\")\n",
    "plt.legend(fontsize = 18)\n",
    "plt.savefig('smoothing_train.jpg', bbox_inches='tight')\n",
    "plt.clf()\n",
    "plt.show()\n"
   ]
  }
 ],
 "metadata": {
  "kernelspec": {
   "display_name": "Python 3",
   "language": "python",
   "name": "python3"
  },
  "language_info": {
   "codemirror_mode": {
    "name": "ipython",
    "version": 3
   },
   "file_extension": ".py",
   "mimetype": "text/x-python",
   "name": "python",
   "nbconvert_exporter": "python",
   "pygments_lexer": "ipython3",
   "version": "3.7.4"
  }
 },
 "nbformat": 4,
 "nbformat_minor": 2
}
